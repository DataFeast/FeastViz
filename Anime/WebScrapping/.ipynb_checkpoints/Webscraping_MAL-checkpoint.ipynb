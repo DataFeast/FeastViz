{
 "cells": [
  {
   "cell_type": "markdown",
   "id": "tracked-baghdad",
   "metadata": {},
   "source": [
    "# Scrapping Animes info using Python\n"
   ]
  },
  {
   "cell_type": "code",
   "execution_count": 1,
   "id": "sublime-connectivity",
   "metadata": {},
   "outputs": [],
   "source": [
    "from bs4 import BeautifulSoup\n",
    "import urllib.request,sys,time\n",
    "import requests\n",
    "import pandas as pd"
   ]
  },
  {
   "cell_type": "markdown",
   "id": "instrumental-theme",
   "metadata": {},
   "source": [
    "## Making Simple requests\n",
    "\n",
    "We would use \"Horror\" genre from [My Anime List](https://myanimelist.net/anime/genre/14/Horror)."
   ]
  },
  {
   "cell_type": "code",
   "execution_count": 2,
   "id": "sporting-prison",
   "metadata": {},
   "outputs": [],
   "source": [
    "URL = \"https://myanimelist.net/anime/genre/14/Horror\"\n",
    "\n",
    "page = requests.get(URL)"
   ]
  },
  {
   "cell_type": "markdown",
   "id": "electric-shirt",
   "metadata": {},
   "source": [
    "## Extracting content from HTML"
   ]
  },
  {
   "cell_type": "code",
   "execution_count": 3,
   "id": "later-lightweight",
   "metadata": {},
   "outputs": [],
   "source": [
    "soup = BeautifulSoup(page.content, \"html.parser\")"
   ]
  },
  {
   "cell_type": "markdown",
   "id": "designed-underground",
   "metadata": {},
   "source": [
    "Here we need to find all the links that connect with the animes pages."
   ]
  },
  {
   "cell_type": "code",
   "execution_count": 4,
   "id": "monthly-massachusetts",
   "metadata": {},
   "outputs": [
    {
     "name": "stdout",
     "output_type": "stream",
     "text": [
      "100\n"
     ]
    }
   ],
   "source": [
    "links = soup.find_all(\"a\", attrs = {'class' : 'link-title'})\n",
    "\n",
    "print(len(links))"
   ]
  },
  {
   "cell_type": "code",
   "execution_count": 6,
   "id": "marked-screen",
   "metadata": {},
   "outputs": [],
   "source": [
    "anime_links = []\n",
    "for link in links:\n",
    "    anime_links.append(link['href'])"
   ]
  },
  {
   "cell_type": "code",
   "execution_count": 7,
   "id": "looking-safety",
   "metadata": {},
   "outputs": [
    {
     "data": {
      "text/plain": [
       "['https://myanimelist.net/anime/22319/Tokyo_Ghoul',\n",
       " 'https://myanimelist.net/anime/22535/Kiseijuu__Sei_no_Kakuritsu',\n",
       " 'https://myanimelist.net/anime/27899/Tokyo_Ghoul_√A',\n",
       " 'https://myanimelist.net/anime/37779/Yakusoku_no_Neverland',\n",
       " 'https://myanimelist.net/anime/11111/Another',\n",
       " 'https://myanimelist.net/anime/226/Elfen_Lied',\n",
       " 'https://myanimelist.net/anime/8074/Highschool_of_the_Dead',\n",
       " 'https://myanimelist.net/anime/6880/Deadman_Wonderland',\n",
       " 'https://myanimelist.net/anime/36511/Tokyo_Ghoul_re',\n",
       " 'https://myanimelist.net/anime/35120/Devilman__Crybaby']"
      ]
     },
     "execution_count": 7,
     "metadata": {},
     "output_type": "execute_result"
    }
   ],
   "source": [
    "anime_links[0:10]"
   ]
  },
  {
   "cell_type": "markdown",
   "id": "attended-portfolio",
   "metadata": {},
   "source": [
    "Super!!!!\n",
    "\n",
    "### Explore others page\n",
    "We extract all the links from the first page but now we need to search how to explore the others page without knowing how many pages are present. Maybe we can use a `while` loop.\n",
    "\n",
    "For example, **Horror** genre only have 5 pages, so at the moment to reach the sixth page we need to break"
   ]
  },
  {
   "cell_type": "code",
   "execution_count": 8,
   "id": "ranging-pennsylvania",
   "metadata": {},
   "outputs": [
    {
     "name": "stdout",
     "output_type": "stream",
     "text": [
      "Correct Page https://myanimelist.net/anime/genre/14/Horror?page=1 and status code 200\n",
      "Correct Page https://myanimelist.net/anime/genre/14/Horror?page=2 and status code 200\n",
      "Correct Page https://myanimelist.net/anime/genre/14/Horror?page=3 and status code 200\n",
      "Correct Page https://myanimelist.net/anime/genre/14/Horror?page=4 and status code 200\n",
      "Correct Page https://myanimelist.net/anime/genre/14/Horror?page=5 and status code 200\n",
      "Correct Page https://myanimelist.net/anime/genre/14/Horror?page=6 and status code 404\n"
     ]
    }
   ],
   "source": [
    "num_page = 1 \n",
    "status = 202\n",
    "while status != 404:\n",
    "    URL = \"https://myanimelist.net/anime/genre/14/Horror?page=\" + str(num_page)\n",
    "    page = requests.get(URL)\n",
    "    status = page.status_code\n",
    "    num_page += 1\n",
    "    print(f\"Correct Page {URL} and status code {page.status_code}\")"
   ]
  },
  {
   "cell_type": "markdown",
   "id": "hollywood-banner",
   "metadata": {},
   "source": [
    "nice!!\n",
    "\n",
    "With this we can explore all the page from the genre that we wanted.\n",
    "\n",
    "## Explore each anime\n",
    "\n",
    "Now that we have the link we can explore each anime and extract other information. We would use [Tokyo_Ghoul](https://myanimelist.net/anime/22319/Tokyo_Ghoul) as example."
   ]
  },
  {
   "cell_type": "code",
   "execution_count": 9,
   "id": "limited-philosophy",
   "metadata": {},
   "outputs": [
    {
     "name": "stdout",
     "output_type": "stream",
     "text": [
      "200\n"
     ]
    }
   ],
   "source": [
    "URL = \"https://myanimelist.net/anime/22319/Tokyo_Ghoul\"\n",
    "\n",
    "page = requests.get(URL)\n",
    "print(page.status_code)\n",
    "\n",
    "soup = BeautifulSoup(page.content, \"html.parser\")"
   ]
  },
  {
   "cell_type": "markdown",
   "id": "three-comfort",
   "metadata": {},
   "source": [
    "Looking the web design the easier way is find the all \\<tr\\> and the the first \\<td\\>"
   ]
  },
  {
   "cell_type": "code",
   "execution_count": 10,
   "id": "conceptual-recycling",
   "metadata": {},
   "outputs": [],
   "source": [
    "anime_card = soup.find(\"tr\")\n",
    "anime_info = anime_card.find(\"td\")\n",
    "\n",
    "anime_english = anime_info.find(\"span\", text = \"English:\").next_sibling\n",
    "anime_japanese = anime_info.find(\"span\", text = \"Japanese:\").next_sibling"
   ]
  },
  {
   "cell_type": "code",
   "execution_count": 11,
   "id": "chubby-campus",
   "metadata": {},
   "outputs": [],
   "source": [
    "anime_episodes = anime_info.find(\"span\", text = \"Episodes:\").next_sibling\n",
    "anime_source = anime_info.find(\"span\", text = \"Source:\").next_sibling\n",
    "anime_ratings = anime_info.find(\"span\", text = \"Rating:\").next_sibling"
   ]
  },
  {
   "cell_type": "code",
   "execution_count": 15,
   "id": "referenced-smoke",
   "metadata": {},
   "outputs": [
    {
     "name": "stdout",
     "output_type": "stream",
     "text": [
      "Tokyo Ghoul\n",
      "東京喰種-トーキョーグール-\n",
      "12\n",
      "Manga\n",
      "R - 17+ (violence & profanity)\n"
     ]
    }
   ],
   "source": [
    "print(anime_english.strip())\n",
    "print(anime_japanese.strip())\n",
    "print(anime_episodes.strip())\n",
    "print(anime_source.strip())\n",
    "print(anime_ratings.strip())"
   ]
  },
  {
   "cell_type": "markdown",
   "id": "packed-hebrew",
   "metadata": {},
   "source": [
    "Here the important aspect is that we would need to find the sections from we are interested. Remember that if there is a error or the sections was not found we would need to make an exception.\n",
    "\n",
    "To extract other information is a little harder becuase they don't have a specific ID or class"
   ]
  },
  {
   "cell_type": "code",
   "execution_count": 16,
   "id": "different-massachusetts",
   "metadata": {},
   "outputs": [
    {
     "data": {
      "text/plain": [
       "'Studio Pierrot'"
      ]
     },
     "execution_count": 16,
     "metadata": {},
     "output_type": "execute_result"
    }
   ],
   "source": [
    "anime_details = soup.find(\"div\", attrs={'class':'anime-detail-header-stats'})\n",
    "score = anime_details.find(\"div\", attrs={'class': 'score-label'}).text\n",
    "scored_by = anime_details.find(\"div\", attrs={'class': 'score'})['data-user'].replace(\"users\", \"\").replace(\",\", \"\")\n",
    "ranked = anime_details.find(\"span\", attrs = {'class': 'numbers ranked'}).text\n",
    "popularity = anime_details.find(\"span\", attrs = {'class': 'numbers popularity'}).text\n",
    "members = anime_details.find(\"span\", \n",
    "                             attrs = {'class': 'numbers members'}).text.replace(\"Members \", \"\").replace(\",\", \"\")\n",
    "season = anime_details.find(\"span\", attrs = {'class': 'information season'}).text\n",
    "anime_type = anime_details.find(\"span\", attrs = {'class': 'information type'}).text\n",
    "studio = anime_details.find(\"span\", attrs = {'class': 'information studio author'}).text\n",
    "\n",
    "studio"
   ]
  },
  {
   "cell_type": "markdown",
   "id": "difficult-register",
   "metadata": {},
   "source": [
    "Finally we need to make a datafrae with all animes"
   ]
  },
  {
   "cell_type": "markdown",
   "id": "clean-solution",
   "metadata": {},
   "source": [
    "## Second version web scrapping"
   ]
  },
  {
   "cell_type": "code",
   "execution_count": 9,
   "id": "acceptable-request",
   "metadata": {},
   "outputs": [],
   "source": [
    "url = \"https://myanimelist.net/anime/genre/14/Horror\"\n",
    "\n",
    "page = requests.get(url)\n",
    "\n",
    "soup = BeautifulSoup(page.content, \"html.parser\")"
   ]
  },
  {
   "cell_type": "code",
   "execution_count": 11,
   "id": "advised-limit",
   "metadata": {},
   "outputs": [
    {
     "name": "stdout",
     "output_type": "stream",
     "text": [
      "100\n"
     ]
    }
   ],
   "source": [
    "animes = soup.find_all(\"div\", attrs={'class':'seasonal-anime'})\n",
    "print(len(animes))"
   ]
  },
  {
   "cell_type": "code",
   "execution_count": 12,
   "id": "capable-peace",
   "metadata": {},
   "outputs": [
    {
     "data": {
      "text/plain": [
       "<div class=\"seasonal-anime js-seasonal-anime\" data-genre=\"1,7,14,40,37,8,42\"><div>\n",
       "<div class=\"title\"><a class=\"icon-watch fl-r\" href=\"https://myanimelist.net/anime/22319/Tokyo_Ghoul/video\" title=\"Watch Episode Video\">Watch Video</a><p class=\"title-text\">\n",
       "<h2 class=\"h2_anime_title\"><a class=\"link-title\" href=\"https://myanimelist.net/anime/22319/Tokyo_Ghoul\">Tokyo Ghoul</a></h2>\n",
       "</p>\n",
       "</div>\n",
       "<div class=\"prodsrc\">\n",
       "<span class=\"producer\"><a href=\"/anime/producer/1/Studio_Pierrot\" title=\"Studio Pierrot\">Studio Pierrot</a></span>\n",
       "<div class=\"eps\">\n",
       "<a href=\"https://myanimelist.net/anime/22319/Tokyo_Ghoul/episode\"><span>12 eps</span>\n",
       "</a>\n",
       "</div>\n",
       "<span class=\"source\">Manga</span>\n",
       "<a class=\"button_add btn-anime-watch-status js-anime-watch-status notinmylist\" href=\"https://myanimelist.net/login.php?error=login_required&amp;from=%2Fanime%2Fgenre%2F14%2FHorror\" title=\"Quick add anime to my list\">add</a>\n",
       "</div>\n",
       "<div class=\"genres js-genre\" id=\"22319\">\n",
       "<div class=\"genres-inner js-genre-inner\"><span class=\"genre\">\n",
       "<a href=\"/anime/genre/1/Action\" title=\"Action\">Action</a>\n",
       "</span><span class=\"genre\">\n",
       "<a href=\"/anime/genre/7/Mystery\" title=\"Mystery\">Mystery</a>\n",
       "</span><span class=\"genre\">\n",
       "<a href=\"/anime/genre/14/Horror\" title=\"Horror\">Horror</a>\n",
       "</span><span class=\"genre\">\n",
       "<a href=\"/anime/genre/40/Psychological\" title=\"Psychological\">Psychological</a>\n",
       "</span><span class=\"genre\">\n",
       "<a href=\"/anime/genre/37/Supernatural\" title=\"Supernatural\">Supernatural</a>\n",
       "</span><span class=\"genre\">\n",
       "<a href=\"/anime/genre/8/Drama\" title=\"Drama\">Drama</a>\n",
       "</span><span class=\"genre\">\n",
       "<a href=\"/anime/genre/42/Seinen\" title=\"Seinen\">Seinen</a>\n",
       "</span></div>\n",
       "</div>\n",
       "</div>\n",
       "<div class=\"image\"><a href=\"https://myanimelist.net/anime/22319/Tokyo_Ghoul\"><img alt=\"Tokyo Ghoul\" class=\"lazyload\" data-src=\"https://cdn.myanimelist.net/images/anime/5/64449.jpg\" data-srcset=\"https://cdn.myanimelist.net/images/anime/5/64449.jpg 1x, https://cdn.myanimelist.net/images/anime/5/64449.jpg 2x\" width=\"167\"/></a>\n",
       "<a class=\"link-image\" href=\"https://myanimelist.net/anime/22319/Tokyo_Ghoul\">Tokyo Ghoul</a>\n",
       "</div>\n",
       "<div class=\"synopsis js-synopsis\">\n",
       "<span class=\"preline\">Tokyo has become a cruel and merciless city—a place where vicious creatures called \"ghouls\" exist alongside humans. The citizens of this once great metropolis live in constant fear of these bloodthirsty savages and their thirst for human flesh. However, the greatest threat these ghouls pose is their dangerous ability to masquerade as humans and blend in with society.\n",
       "\n",
       "Based on the best-selling supernatural horror manga by Sui Ishida, Tokyo Ghoul follows Ken Kaneki, a shy, bookish college student, who is instantly drawn to Rize Kamishiro, an avid reader like himself. However, Rize is not exactly who she seems, and this unfortunate meeting pushes Kaneki into the dark depths of the ghouls' inhuman world. In a twist of fate, Kaneki is saved by the enigmatic waitress Touka Kirishima, and thus begins his new, secret life as a half-ghoul/half-human who must find a way to integrate into both societies.\n",
       "\n",
       "[Written by MAL Rewrite]</span>\n",
       "<p class=\"licensors\" data-licensors=\"Funimation,\"></p>\n",
       "</div>\n",
       "<div class=\"information\">\n",
       "<div class=\"info\">\n",
       "      TV -\n",
       "      <span class=\"remain-time\">\n",
       "                  Jul 4, 2014, 00:00 (JST)              </span>\n",
       "</div>\n",
       "<div class=\"scormem\">\n",
       "<span class=\"member fl-r\" title=\"Members\">\n",
       "        2,146,608\n",
       "      </span>\n",
       "<span class=\"score score-label score-7\" title=\"Score\">\n",
       "        7.80\n",
       "      </span>\n",
       "</div>\n",
       "</div>\n",
       "</div>"
      ]
     },
     "execution_count": 12,
     "metadata": {},
     "output_type": "execute_result"
    }
   ],
   "source": [
    "animes[0]"
   ]
  },
  {
   "cell_type": "code",
   "execution_count": null,
   "id": "generic-dispatch",
   "metadata": {},
   "outputs": [],
   "source": []
  },
  {
   "cell_type": "code",
   "execution_count": null,
   "id": "structural-information",
   "metadata": {},
   "outputs": [],
   "source": []
  },
  {
   "cell_type": "code",
   "execution_count": null,
   "id": "funny-celebrity",
   "metadata": {},
   "outputs": [],
   "source": []
  },
  {
   "cell_type": "code",
   "execution_count": null,
   "id": "running-leone",
   "metadata": {},
   "outputs": [],
   "source": []
  }
 ],
 "metadata": {
  "kernelspec": {
   "display_name": "DataFeast",
   "language": "python",
   "name": "datafeast"
  },
  "language_info": {
   "codemirror_mode": {
    "name": "ipython",
    "version": 3
   },
   "file_extension": ".py",
   "mimetype": "text/x-python",
   "name": "python",
   "nbconvert_exporter": "python",
   "pygments_lexer": "ipython3",
   "version": "3.7.6"
  }
 },
 "nbformat": 4,
 "nbformat_minor": 5
}
